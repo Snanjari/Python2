{
 "cells": [
  {
   "cell_type": "markdown",
   "id": "c4fac0c1",
   "metadata": {},
   "source": [
    "# Desafío 2 - Conociendo Python II.\n",
    "Simón Nanjarí - Desafío Latam"
   ]
  },
  {
   "cell_type": "markdown",
   "id": "b49c1d81",
   "metadata": {},
   "source": [
    "Debes desarrollar, en cada caso, un programa que resuelva las siguientes situaciones:"
   ]
  },
  {
   "cell_type": "markdown",
   "id": "1ec64e61",
   "metadata": {},
   "source": [
    "## Ejercicio 1\n",
    "**Suma de números pares**\n",
    "\n",
    "Escribe un programa que pida al usuario dos números enteros y calcule la suma de\n",
    "todos los números pares entre ellos. El programa deberá imprimir el resultado. \n",
    "(hint:utilice la función range() para generar la secuencia de números enteros)"
   ]
  },
  {
   "cell_type": "code",
   "execution_count": 8,
   "id": "40b68010",
   "metadata": {},
   "outputs": [
    {
     "name": "stdout",
     "output_type": "stream",
     "text": [
      "Ingrese el primer número entero: 7\n",
      "Ingrese el segundo número entero: 14\n",
      "Estos son los números entre el los números seleccionados:\n",
      "8\n",
      "10\n",
      "12\n",
      "14\n",
      "La suma de los números pares entre 7 y 14 es 44\n"
     ]
    }
   ],
   "source": [
    "#Primer Paso: Declaramos las variables e inputs correspondientes\n",
    "numero_1 = int(input(\"Ingrese el primer número entero: \"))\n",
    "numero_2 = int(input(\"Ingrese el segundo número entero: \"))\n",
    "suma = 0\n",
    "\n",
    "#Segundo Paso: Generamos un for para iterar sobre la secuencia de datos del programa\n",
    "for numero in range(numero_1, numero_2 + 1):\n",
    "  if numero % 2 == 0:\n",
    "    suma += numero\n",
    "\n",
    "#Tercer Paso: Print de los numeros pares entre los números escogidos mediante un ciclo for\n",
    "print(\"Estos son los números entre el los números seleccionados:\")\n",
    "for numero in range(numero_1, numero_2 + 1):\n",
    "  if numero % 2 == 0:\n",
    "    print(numero)\n",
    "\n",
    "#Cuarto Paso: Print final de los números escogidos y la suma correspondiente a los numeros pares entre ellos. \n",
    "print(\"La suma de los números pares entre {} y {} es {}\".format(numero_1, numero_2, suma))\n"
   ]
  },
  {
   "cell_type": "markdown",
   "id": "1d507879",
   "metadata": {},
   "source": [
    "# Ejercicio 2: \n",
    "**Calculadora de áreas**\n",
    "\n",
    "Escribe un programa que pida al usuario el tipo de figura geométrica de la que quiere\n",
    "calcular el área (cuadrado, triángulo o círculo) y las medidas correspondientes. El\n",
    "programa deberá calcular y mostrar el área de la figura seleccionada. (hint: para\n",
    "obtener el número pi puedes utilizar la librería math)\n"
   ]
  },
  {
   "cell_type": "code",
   "execution_count": 16,
   "id": "3bf05211",
   "metadata": {},
   "outputs": [
    {
     "name": "stdout",
     "output_type": "stream",
     "text": [
      "¿Qué figura geométrica quieres calcular? (cuadrado, triángulo o círculo): triángulo\n",
      "Ingrese la base del triángulo: 5\n",
      "Ingrese la altura del triángulo: 40\n",
      "El área del triángulo es 100.0.\n"
     ]
    }
   ],
   "source": [
    "# Primer Paso: Importamos Librerías a utilizar.\n",
    "import math\n",
    "\n",
    "#Segundo Paso: solicitamos un input para las tres figuras geométricas:\n",
    "figura = input(\"¿Qué figura geométrica quieres calcular? (cuadrado, triángulo o círculo): \")\n",
    "\n",
    "#Tercer Paso: Utilizamos if/elif/else para generar un diagrama de flujo respecto a la solicitud hecha en el input:\n",
    "if figura == \"cuadrado\": # si es cuadrado, se solicitará el lado para cálculo de área.\n",
    "  lado = float(input(\"Ingrese el lado del cuadrado: \"))\n",
    "  area = lado * lado\n",
    "  print(\"El área del cuadrado es {}.\".format(area))\n",
    "elif figura == \"triángulo\": # si es triángulo, se solicitará la base x altura para cálculo de área.\n",
    "  base = float(input(\"Ingrese la base del triángulo: \"))\n",
    "  altura = float(input(\"Ingrese la altura del triángulo: \"))\n",
    "  area = (base * altura) / 2\n",
    "  print(\"El área del triángulo es {}.\".format(area))\n",
    "elif figura == \"círculo\": # si es círculo, se solicitará el radio para el cálculo del área.\n",
    "  radio = float(input(\"Ingrese el radio del círculo: \"))\n",
    "  area = math.pi * radio ** 2\n",
    "  print(\"El área del círculo es {}.\".format(area)) \n",
    "else:\n",
    "  print(\"Figura geométrica no válida.\") # se ingresa un else para que se ingrese de forma correspondiente el nombre de la figura.\n"
   ]
  },
  {
   "cell_type": "markdown",
   "id": "dd14f070",
   "metadata": {},
   "source": [
    "# Ejercicio 3:\n",
    "\n",
    "**Adivina el número**\n",
    "\n",
    "Escribe un programa que genere un número aleatorio entre 1 y 100 y pida al usuario\n",
    "que adivine cuál es. El programa deberá dar pistas al usuario diciendo si el número\n",
    "que ha introducido es mayor o menor que el número aleatorio. El programa deberá\n",
    "continuar pidiendo números hasta que el usuario adivine el número correcto. (hint:\n",
    "utiliza un ciclo while para mantener al programa pidiendo números)"
   ]
  },
  {
   "cell_type": "code",
   "execution_count": null,
   "id": "6933d78d",
   "metadata": {},
   "outputs": [],
   "source": [
    "#Primer Paso: Importamos librerías a utilizar\n",
    "import random\n",
    "\n",
    "#Segundo Paso: Generamos las variables.\n",
    "numero_aleatorio = random.randint(1, 100)\n",
    "intentos = 0\n",
    "\n",
    "#Tercer Paso: Generamos un ciclo while para repetir un bloque de código mientras se cumpla una condición determinada.\n",
    "while True:\n",
    "    numero_ingresado = int(input(\"Adivina el número: \"))\n",
    "    intentos += 1\n",
    "\n",
    "#Cuarto Paso: Se ingresa un diagrama de flujo con if/elif/else para dar pistas y aciertos al usuario.\n",
    "    if numero_ingresado == numero_aleatorio:\n",
    "        print(\"¡Adivinasteeeeeeee! El número era {}. Yyy Tardaste soooolo {} intento(s). MUY BIEEEN!.\".format(numero_aleatorio, intentos))\n",
    "        break\n",
    "    elif numero_ingresado > numero_aleatorio:\n",
    "        print(\"CAAASI!!! pero no! El número que ingresaste es mayor.\")\n",
    "    else:\n",
    "        print(\"UUUFFFF!!! El número que ingresaste es menor.\") \n",
    "        if numero_ingresado > (numero_aleatorio + 20): #pista para indicar cercanía\n",
    "            print(\"¡Estás muy muy leeeeejos!\")\n",
    "        elif numero_ingresado > (numero_aleatorio + 10):#pista para indicar cercanía\n",
    "            print(\"¡Estás un poooooco lejosssss!\")\n",
    "        elif numero_ingresado > (numero_aleatorio + 5):#pista para indicar cercanía\n",
    "            print(\"¡Estáss cercaaaaaa!\")\n",
    "        else:\n",
    "            print(\"¡Estás muy muy cerca!\") #pista para indicar cercanía\n"
   ]
  },
  {
   "cell_type": "markdown",
   "id": "2ea655cb",
   "metadata": {},
   "source": [
    "# Ejercicio 4:\n",
    "**¡Maratón de caracoles!**\n",
    "\n",
    "Crea un programa que simule un caracol que va corriendo una maratón. Pide al usuario que\n",
    "ingrese la velocidad a la que puede correr el caracol. Debes usar un ciclo while, para ir\n",
    "mostrando un emoji de caracol 🐌 que se vaya moviendo hacia la derecha en cada\n",
    "impresión, el avance del caracol debe visualizarse de esta forma:\n",
    "\n",
    "__________🐌\n",
    "\n",
    "____________________🐌\n",
    "\n",
    "______________________________🐌\n",
    "\n",
    "________________________________________🐌\n",
    "\n",
    "__________________________________________________🐌\n",
    "\n",
    "____________________________________________________________🐌\n",
    "\n",
    "______________________________________________________________________🐌\n",
    "\n",
    "________________________________________________________________________________🐌\n"
   ]
  },
  {
   "cell_type": "code",
   "execution_count": 15,
   "id": "3bd8d351",
   "metadata": {},
   "outputs": [
    {
     "name": "stdout",
     "output_type": "stream",
     "text": [
      "¿A qué velocidad corre el caracol? (en metros por segundo): 5\n",
      "                                                                                               🐌\n",
      "                                                                                          🐌\n",
      "                                                                                     🐌\n",
      "                                                                                🐌\n",
      "                                                                           🐌\n",
      "                                                                      🐌\n",
      "                                                                 🐌\n",
      "                                                            🐌\n",
      "                                                       🐌\n",
      "                                                  🐌\n",
      "                                             🐌\n",
      "                                        🐌\n",
      "                                   🐌\n",
      "                              🐌\n",
      "                         🐌\n",
      "                    🐌\n",
      "               🐌\n",
      "          🐌\n",
      "     🐌\n",
      "🐌\n",
      "🎈🐌🎊🐌🎉🐌🎺🐌🎊🐌🎉🐌¡El caracol ha llegado a la meta!🐌🎉🐌🎊🐌🎺🐌🎉🐌🎈\n"
     ]
    }
   ],
   "source": [
    "#Primer Paso: Importamos Librerías\n",
    "import time\n",
    "\n",
    "#Segundo Paso: Generamos las variables a utilizar.\n",
    "velocidad = float(input(\"¿A qué velocidad corre el caracol? (en metros por segundo): \"))\n",
    "\n",
    "distancia_recorrida = 0\n",
    "\n",
    "#Tercer Paso: Utilizamos un ciclo While para repetir un bloque de código mientras se cumpla una condición determinada.\n",
    "while distancia_recorrida < 100:\n",
    "    distancia_recorrida += int(velocidad)\n",
    "    print(\"{}🐌\".format(\" \" * (100 - distancia_recorrida)))\n",
    "    time.sleep(1 / velocidad)\n",
    "    \n",
    "#Cuarto Paso: se genera el Print final del 🐌 llegando a su meta .\n",
    "print(\"🎈🐌🎊🐌🎉🐌🎺🐌🎊🐌🎉🐌¡El caracol ha llegado a la meta!🐌🎉🐌🎊🐌🎺🐌🎉🐌🎈\")\n"
   ]
  },
  {
   "cell_type": "code",
   "execution_count": null,
   "id": "7f03b0ae",
   "metadata": {},
   "outputs": [],
   "source": []
  }
 ],
 "metadata": {
  "kernelspec": {
   "display_name": "Python 3 (ipykernel)",
   "language": "python",
   "name": "python3"
  },
  "language_info": {
   "codemirror_mode": {
    "name": "ipython",
    "version": 3
   },
   "file_extension": ".py",
   "mimetype": "text/x-python",
   "name": "python",
   "nbconvert_exporter": "python",
   "pygments_lexer": "ipython3",
   "version": "3.11.4"
  }
 },
 "nbformat": 4,
 "nbformat_minor": 5
}
